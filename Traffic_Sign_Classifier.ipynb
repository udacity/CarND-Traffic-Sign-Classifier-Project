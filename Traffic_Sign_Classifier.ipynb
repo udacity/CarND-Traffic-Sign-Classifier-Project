{
 "cells": [
  {
   "cell_type": "markdown",
   "metadata": {
    "deletable": true,
    "editable": true
   },
   "source": [
    "# Self-Driving Car Engineer Nanodegree\n",
    "\n",
    "## Deep Learning\n",
    "\n",
    "## Project: Build a Traffic Sign Recognition Classifier\n",
    "\n",
    "In this notebook, a template is provided for you to implement your functionality in stages, which is required to successfully complete this project. If additional code is required that cannot be included in the notebook, be sure that the Python code is successfully imported and included in your submission if necessary. \n",
    "\n",
    "> **Note**: Once you have completed all of the code implementations, you need to finalize your work by exporting the iPython Notebook as an HTML document. Before exporting the notebook to html, all of the code cells need to have been run so that reviewers can see the final implementation and output. You can then export the notebook by using the menu above and navigating to  \\n\",\n",
    "    \"**File -> Download as -> HTML (.html)**. Include the finished document along with this notebook as your submission. \n",
    "\n",
    "In addition to implementing code, there is a writeup to complete. The writeup should be completed in a separate file, which can be either a markdown file or a pdf document. There is a [write up template](https://github.com/udacity/CarND-Traffic-Sign-Classifier-Project/blob/master/writeup_template.md) that can be used to guide the writing process. Completing the code template and writeup template will cover all of the [rubric points](https://review.udacity.com/#!/rubrics/481/view) for this project.\n",
    "\n",
    "The [rubric](https://review.udacity.com/#!/rubrics/481/view) contains \"Stand Out Suggestions\" for enhancing the project beyond the minimum requirements. The stand out suggestions are optional. If you decide to pursue the \"stand out suggestions\", you can include the code in this Ipython notebook and also discuss the results in the writeup file.\n",
    "\n",
    "\n",
    ">**Note:** Code and Markdown cells can be executed using the **Shift + Enter** keyboard shortcut. In addition, Markdown cells can be edited by typically double-clicking the cell to enter edit mode."
   ]
  },
  {
   "cell_type": "markdown",
   "metadata": {
    "deletable": true,
    "editable": true
   },
   "source": [
    "---\n",
    "## Step 0: Load The Data"
   ]
  },
  {
   "cell_type": "code",
   "execution_count": 1,
   "metadata": {
    "collapsed": false,
    "deletable": true,
    "editable": true
   },
   "outputs": [],
   "source": [
    "import pickle\n",
    "\n",
    "training_file = 'train.p'\n",
    "validation_file = 'valid.p'\n",
    "testing_file = 'test.p'\n",
    "\n",
    "with open(training_file, mode='rb') as f:\n",
    "    train = pickle.load(f)\n",
    "with open(validation_file, mode='rb') as f:\n",
    "    valid = pickle.load(f)\n",
    "with open(testing_file, mode='rb') as f:\n",
    "    test = pickle.load(f)\n",
    "    \n",
    "X_train, y_train = train['features'], train['labels']\n",
    "X_valid, y_valid = valid['features'], valid['labels']\n",
    "X_test, y_test = test['features'], test['labels']"
   ]
  },
  {
   "cell_type": "markdown",
   "metadata": {
    "deletable": true,
    "editable": true
   },
   "source": [
    "---\n",
    "\n",
    "## Step 1: Dataset Summary & Exploration\n",
    "\n",
    "The pickled data is a dictionary with 4 key/value pairs:\n",
    "\n",
    "- `'features'` is a 4D array containing raw pixel data of the traffic sign images, (num examples, width, height, channels).\n",
    "- `'labels'` is a 1D array containing the label/class id of the traffic sign. The file `signnames.csv` contains id -> name mappings for each id.\n",
    "- `'sizes'` is a list containing tuples, (width, height) representing the original width and height the image.\n",
    "- `'coords'` is a list containing tuples, (x1, y1, x2, y2) representing coordinates of a bounding box around the sign in the image. **THESE COORDINATES ASSUME THE ORIGINAL IMAGE. THE PICKLED DATA CONTAINS RESIZED VERSIONS (32 by 32) OF THESE IMAGES**\n",
    "\n",
    "Complete the basic data summary below. Use python, numpy and/or pandas methods to calculate the data summary rather than hard coding the results. For example, the [pandas shape method](http://pandas.pydata.org/pandas-docs/stable/generated/pandas.DataFrame.shape.html) might be useful for calculating some of the summary results. "
   ]
  },
  {
   "cell_type": "markdown",
   "metadata": {
    "deletable": true,
    "editable": true
   },
   "source": [
    "### Provide a Basic Summary of the Data Set Using Python, Numpy and/or Pandas"
   ]
  },
  {
   "cell_type": "code",
   "execution_count": 2,
   "metadata": {
    "collapsed": false,
    "deletable": true,
    "editable": true
   },
   "outputs": [
    {
     "name": "stdout",
     "output_type": "stream",
     "text": [
      "Number of training examples = 34799\n",
      "Number of testing examples = 12630\n",
      "Image data shape = (32, 32, 3)\n",
      "Number of classes = 43\n"
     ]
    }
   ],
   "source": [
    "import numpy as np\n",
    "import pandas as pd\n",
    "\n",
    "n_train = len(X_train)\n",
    "n_test = len(X_test)\n",
    "image_shape = X_train[0].shape\n",
    "n_classes = np.unique(y_train).size\n",
    "\n",
    "print(\"Number of training examples =\", n_train)\n",
    "print(\"Number of testing examples =\", n_test)\n",
    "print(\"Image data shape =\", image_shape)\n",
    "print(\"Number of classes =\", n_classes)"
   ]
  },
  {
   "cell_type": "markdown",
   "metadata": {
    "deletable": true,
    "editable": true
   },
   "source": [
    "### Include an exploratory visualization of the dataset"
   ]
  },
  {
   "cell_type": "markdown",
   "metadata": {
    "deletable": true,
    "editable": true
   },
   "source": [
    "Visualize the German Traffic Signs Dataset using the pickled file(s). This is open ended, suggestions include: plotting traffic sign images, plotting the count of each sign, etc.\n",
    "\n",
    "The [Matplotlib](http://matplotlib.org/) [examples](http://matplotlib.org/examples/index.html) and [gallery](http://matplotlib.org/gallery.html) pages are a great resource for doing visualizations in Python.\n",
    "\n",
    "**NOTE:** It's recommended you start with something simple first. If you wish to do more, come back to it after you've completed the rest of the sections."
   ]
  },
  {
   "cell_type": "code",
   "execution_count": 3,
   "metadata": {
    "collapsed": true,
    "deletable": true,
    "editable": true
   },
   "outputs": [
    {
     "data": {
      "image/png": "[encoded data removed]",
      "text/plain": [
       "<matplotlib.figure.Figure at 0x7fd158676b38>"
      ]
     },
     "metadata": {},
     "output_type": "display_data"
    }
   ],
   "source": [
    "import matplotlib.pyplot as plt\n",
    "\n",
    "%matplotlib inline\n",
    "\n",
    "plt.hist(y_train, bins=n_classes)\n",
    "plt.show()"
   ]
  },
  {
   "cell_type": "code",
   "execution_count": 4,
   "metadata": {
    "collapsed": false,
    "deletable": true,
    "editable": true
   },
   "outputs": [],
   "source": [
    "import numpy as np\n",
    "\n",
    "histogram = np.histogram(y_train, n_classes)"
   ]
  },
  {
   "cell_type": "code",
   "execution_count": 5,
   "metadata": {
    "collapsed": false
   },
   "outputs": [],
   "source": [
    "import cv2\n",
    "import math\n",
    "\n",
    "# 'Hyperparameter'\n",
    "ANGLE = 30\n",
    "\n",
    "# Based on http://stackoverflow.com/a/19110462, need a better way to calc transformation matrix...\n",
    "def warp(img, rotx=0, roty=0, rotz=0, f=2):\n",
    "    h, w, c = img.shape\n",
    "\n",
    "    cx = math.cos(rotx)\n",
    "    sx = math.sin(rotx)\n",
    "    cy = math.cos(roty)\n",
    "    sy = math.sin(roty)\n",
    "    cz = math.cos(rotz)\n",
    "    sz = math.sin(rotz)\n",
    "\n",
    "    roto = [\n",
    "        [cz * cy, cz * sy * sx - sz * cx],\n",
    "        [sz * cy, sz * sy * sx + cz * cx],\n",
    "        [-sy, cy * sx]\n",
    "    ]\n",
    "\n",
    "    pt = [\n",
    "        [-w / 2, -h / 2],\n",
    "        [w / 2, -h / 2],\n",
    "        [w / 2, h / 2],\n",
    "        [-w / 2, h / 2]\n",
    "    ]\n",
    "\n",
    "    ptt = np.zeros((4, 2), dtype=float)\n",
    "\n",
    "    for i in range(4):\n",
    "        pz = pt[i][0] * roto[2][0] + pt[i][1] * roto[2][1]\n",
    "        ptt[i][0] = w / 2 + (pt[i][0] * roto[0][0] + pt[i][1] * roto[0][1]) * f * h / (f * h + pz)\n",
    "        ptt[i][1] = h / 2 + (pt[i][0] * roto[1][0] + pt[i][1] * roto[1][1]) * f * h / (f * h + pz)\n",
    "\n",
    "    src = np.float32([\n",
    "        [0, 0],\n",
    "        [w, 0],\n",
    "        [w, h],\n",
    "        [0, h]\n",
    "    ])\n",
    "\n",
    "    dst = np.float32([\n",
    "        [ptt[0][0], ptt[0][1]],\n",
    "        [ptt[1][0], ptt[1][1]],\n",
    "        [ptt[2][0], ptt[2][1]],\n",
    "        [ptt[3][0], ptt[3][1]]\n",
    "    ])\n",
    "\n",
    "    return cv2.warpPerspective(img, cv2.getPerspectiveTransform(src, dst), (w, h), borderMode=cv2.BORDER_REPLICATE)\n",
    "\n",
    "\n",
    "def generate_signs_variations(signs, count):\n",
    "    result = []\n",
    "    for sign in signs:\n",
    "        multiple = min(int(math.ceil(count / len(signs))), count - len(result))\n",
    "        combinations = np.random.randint(-ANGLE, ANGLE, (multiple, 3)) * math.pi / 180\n",
    "        for rx, ry, rz in combinations:\n",
    "            warped = warp(sign, rx, ry, rz)\n",
    "            result.append(warped)\n",
    "    return result\n",
    "\n",
    "\n",
    "def augment(X_train, y_train):\n",
    "    n_classes = np.unique(y_train).size\n",
    "    hist, bins = np.histogram(y_train, bins=n_classes)\n",
    "\n",
    "    X_aug = []\n",
    "    y_aug = []\n",
    "\n",
    "    for i, original_count in zip(np.arange(hist.size + 1), hist):\n",
    "        multiplier = hist.max() / original_count\n",
    "        variation_count = int((multiplier - 1) * original_count)\n",
    "        x_idx, *rest = np.where(y_train == i)\n",
    "        signs = np.asarray([X_train[j] for j in x_idx], dtype=np.uint8)\n",
    "        variations = generate_signs_variations(signs, variation_count)\n",
    "        X_aug += variations\n",
    "        y_aug += np.full(len(variations), i, dtype=np.uint8).tolist()\n",
    "\n",
    "    return (np.array(X_aug), np.array(y_aug))"
   ]
  },
  {
   "cell_type": "code",
   "execution_count": 6,
   "metadata": {
    "collapsed": false
   },
   "outputs": [
    {
     "data": {
      "image/png": "[encoded data removed]",
      "text/plain": [
       "<matplotlib.figure.Figure at 0x7fd116d22fd0>"
      ]
     },
     "metadata": {},
     "output_type": "display_data"
    }
   ],
   "source": [
    "X_aug, y_aug = augment(X_train, y_train)\n",
    "\n",
    "X_train = np.concatenate((X_train, X_aug))\n",
    "y_train = np.concatenate((y_train, y_aug))\n",
    "\n",
    "plt.hist(y_train, bins=n_classes)\n",
    "plt.show()"
   ]
  },
  {
   "cell_type": "markdown",
   "metadata": {
    "deletable": true,
    "editable": true
   },
   "source": [
    "----\n",
    "\n",
    "## Step 2: Design and Test a Model Architecture\n",
    "\n",
    "Design and implement a deep learning model that learns to recognize traffic signs. Train and test your model on the [German Traffic Sign Dataset](http://benchmark.ini.rub.de/?section=gtsrb&subsection=dataset).\n",
    "\n",
    "The LeNet-5 implementation shown in the [classroom](https://classroom.udacity.com/nanodegrees/nd013/parts/fbf77062-5703-404e-b60c-95b78b2f3f9e/modules/6df7ae49-c61c-4bb2-a23e-6527e69209ec/lessons/601ae704-1035-4287-8b11-e2c2716217ad/concepts/d4aca031-508f-4e0b-b493-e7b706120f81) at the end of the CNN lesson is a solid starting point. You'll have to change the number of classes and possibly the preprocessing, but aside from that it's plug and play! \n",
    "\n",
    "With the LeNet-5 solution from the lecture, you should expect a validation set accuracy of about 0.89. To meet specifications, the validation set accuracy will need to be at least 0.93. It is possible to get an even higher accuracy, but 0.93 is the minimum for a successful project submission. \n",
    "\n",
    "There are various aspects to consider when thinking about this problem:\n",
    "\n",
    "- Neural network architecture (is the network over or underfitting?)\n",
    "- Play around preprocessing techniques (normalization, rgb to grayscale, etc)\n",
    "- Number of examples per label (some have more than others).\n",
    "- Generate fake data.\n",
    "\n",
    "Here is an example of a [published baseline model on this problem](http://yann.lecun.com/exdb/publis/pdf/sermanet-ijcnn-11.pdf). It's not required to be familiar with the approach used in the paper but, it's good practice to try to read papers like these."
   ]
  },
  {
   "cell_type": "markdown",
   "metadata": {
    "deletable": true,
    "editable": true
   },
   "source": [
    "### Pre-process the Data Set (normalization, grayscale, etc.)"
   ]
  },
  {
   "cell_type": "markdown",
   "metadata": {
    "deletable": true,
    "editable": true
   },
   "source": [
    "Use the code cell (or multiple code cells, if necessary) to implement the first step of your project."
   ]
  },
  {
   "cell_type": "code",
   "execution_count": 7,
   "metadata": {
    "collapsed": false,
    "deletable": true,
    "editable": true
   },
   "outputs": [],
   "source": [
    "from sklearn.utils import shuffle\n",
    "import cv2\n",
    "\n",
    "X_train, y_train = shuffle(X_train, y_train)\n",
    "\n",
    "def gray_normalized(image):\n",
    "    width, height, channels = image.shape\n",
    "    image = cv2.cvtColor(image, cv2.COLOR_BGR2GRAY)\n",
    "    image = cv2.equalizeHist(image)\n",
    "    image = np.reshape(image, (width, height, 1))\n",
    "    return image\n",
    "\n",
    "X_train = np.asarray(list(map(lambda x: gray_normalized(x), X_train)))\n",
    "X_valid = np.asarray(list(map(lambda x: gray_normalized(x), X_valid)))\n",
    "X_test = np.asarray(list(map(lambda x: gray_normalized(x), X_test)))"
   ]
  },
  {
   "cell_type": "markdown",
   "metadata": {
    "deletable": true,
    "editable": true
   },
   "source": [
    "### Model Architecture"
   ]
  },
  {
   "cell_type": "code",
   "execution_count": 8,
   "metadata": {
    "collapsed": true,
    "deletable": true,
    "editable": true
   },
   "outputs": [],
   "source": [
    "from tensorflow.contrib.layers import flatten\n",
    "\n",
    "def LeNet(x):    \n",
    "    # Arguments used for tf.truncated_normal, randomly defines variables for the weights and biases for each layer\n",
    "    mu = 0\n",
    "    sigma = 0.1\n",
    "\n",
    "    # Layer 1: Convolutional. Input = 32x32x1. Output = 28x28x6.\n",
    "    conv1_W = tf.Variable(tf.truncated_normal(shape=(5, 5, 1, 6), mean = mu, stddev = sigma))\n",
    "    conv1_b = tf.Variable(tf.zeros(6))\n",
    "    conv1   = tf.nn.conv2d(x, conv1_W, strides=[1, 1, 1, 1], padding='VALID') + conv1_b\n",
    "    \n",
    "    # Activation.\n",
    "    conv1 = tf.nn.relu(conv1)\n",
    "\n",
    "    # Pooling. Input = 28x28x6. Output = 14x14x6.\n",
    "    conv1 = tf.nn.max_pool(conv1, ksize=[1, 2, 2, 1], strides=[1, 2, 2, 1], padding='VALID')\n",
    "\n",
    "    # Layer 2: Convolutional. Input = 14x14x6. Output = 10x10x16.\n",
    "    conv2_W = tf.Variable(tf.truncated_normal(shape=(5, 5, 6, 16), mean = mu, stddev = sigma))\n",
    "    conv2_b = tf.Variable(tf.zeros(16))\n",
    "    conv2   = tf.nn.conv2d(conv1, conv2_W, strides=[1, 1, 1, 1], padding='VALID') + conv2_b\n",
    "    \n",
    "    # Activation.\n",
    "    conv2 = tf.nn.relu(conv2)\n",
    "\n",
    "    # Pooling. Input = 10x10x16. Output = 5x5x16.\n",
    "    conv2 = tf.nn.max_pool(conv2, ksize=[1, 2, 2, 1], strides=[1, 2, 2, 1], padding='VALID')\n",
    "\n",
    "    # Flatten. Input = 5x5x16. Output = 400.\n",
    "    fc0   = flatten(conv2)\n",
    "    \n",
    "    # Layer 3: Fully Connected. Input = 400. Output = 190.\n",
    "    fc1_W = tf.Variable(tf.truncated_normal(shape=(400, 190), mean = mu, stddev = sigma))\n",
    "    fc1_b = tf.Variable(tf.zeros(190))\n",
    "    fc1   = tf.matmul(fc0, fc1_W) + fc1_b\n",
    "    \n",
    "    # Activation.\n",
    "    fc1 = tf.nn.relu(fc1)\n",
    "\n",
    "    # Layer 4: Fully Connected. Input = 190. Output = 90.\n",
    "    fc2_W  = tf.Variable(tf.truncated_normal(shape=(190, 90), mean = mu, stddev = sigma))\n",
    "    fc2_b  = tf.Variable(tf.zeros(90))\n",
    "    fc2    = tf.matmul(fc1, fc2_W) + fc2_b\n",
    "    \n",
    "    # Activation.\n",
    "    fc2 = tf.nn.relu(fc2)\n",
    "    \n",
    "    # Layer 5: Fully Connected. Input = 90. Output = 43.\n",
    "    fc3_W  = tf.Variable(tf.truncated_normal(shape=(90, 43), mean = mu, stddev = sigma))\n",
    "    fc3_b  = tf.Variable(tf.zeros(43))\n",
    "    logits = tf.matmul(fc2, fc3_W) + fc3_b\n",
    "    \n",
    "    return logits"
   ]
  },
  {
   "cell_type": "markdown",
   "metadata": {
    "deletable": true,
    "editable": true
   },
   "source": [
    "### Train, Validate and Test the Model"
   ]
  },
  {
   "cell_type": "markdown",
   "metadata": {
    "deletable": true,
    "editable": true
   },
   "source": [
    "A validation set can be used to assess how well the model is performing. A low accuracy on the training and validation\n",
    "sets imply underfitting. A high accuracy on the training set but low accuracy on the validation set implies overfitting."
   ]
  },
  {
   "cell_type": "code",
   "execution_count": 9,
   "metadata": {
    "collapsed": true,
    "deletable": true,
    "editable": true
   },
   "outputs": [],
   "source": [
    "# Hyperparameters\n",
    "\n",
    "EPOCHS = 120\n",
    "BATCH_SIZE = 128\n",
    "rate = 0.001"
   ]
  },
  {
   "cell_type": "code",
   "execution_count": 10,
   "metadata": {
    "collapsed": false,
    "deletable": true,
    "editable": true
   },
   "outputs": [
    {
     "name": "stdout",
     "output_type": "stream",
     "text": [
      "Training...\n",
      "\n",
      "EPOCH 1 ...\n",
      "Validation Accuracy = 0.7238\n",
      "\n",
      "EPOCH 2 ...\n",
      "Validation Accuracy = 0.7794\n",
      "\n",
      "EPOCH 3 ...\n",
      "Validation Accuracy = 0.8485\n",
      "\n",
      "EPOCH 4 ...\n",
      "Validation Accuracy = 0.8456\n",
      "\n",
      "EPOCH 5 ...\n",
      "Validation Accuracy = 0.8567\n",
      "\n",
      "EPOCH 6 ...\n",
      "Validation Accuracy = 0.8717\n",
      "\n",
      "EPOCH 7 ...\n",
      "Validation Accuracy = 0.8832\n",
      "\n",
      "EPOCH 8 ...\n",
      "Validation Accuracy = 0.8846\n",
      "\n",
      "EPOCH 9 ...\n",
      "Validation Accuracy = 0.8882\n",
      "\n",
      "EPOCH 10 ...\n",
      "Validation Accuracy = 0.8735\n",
      "\n",
      "EPOCH 11 ...\n",
      "Validation Accuracy = 0.9007\n",
      "\n",
      "EPOCH 12 ...\n",
      "Validation Accuracy = 0.8848\n",
      "\n",
      "EPOCH 13 ...\n",
      "Validation Accuracy = 0.9036\n",
      "\n",
      "EPOCH 14 ...\n",
      "Validation Accuracy = 0.8998\n",
      "\n",
      "EPOCH 15 ...\n",
      "Validation Accuracy = 0.8850\n",
      "\n",
      "EPOCH 16 ...\n",
      "Validation Accuracy = 0.8862\n",
      "\n",
      "EPOCH 17 ...\n",
      "Validation Accuracy = 0.8968\n",
      "\n",
      "EPOCH 18 ...\n",
      "Validation Accuracy = 0.8984\n",
      "\n",
      "EPOCH 19 ...\n",
      "Validation Accuracy = 0.8977\n",
      "\n",
      "EPOCH 20 ...\n",
      "Validation Accuracy = 0.9084\n",
      "\n",
      "EPOCH 21 ...\n",
      "Validation Accuracy = 0.9059\n",
      "\n",
      "EPOCH 22 ...\n",
      "Validation Accuracy = 0.9084\n",
      "\n",
      "EPOCH 23 ...\n",
      "Validation Accuracy = 0.8982\n",
      "\n",
      "EPOCH 24 ...\n",
      "Validation Accuracy = 0.9020\n",
      "\n",
      "EPOCH 25 ...\n",
      "Validation Accuracy = 0.8934\n",
      "\n",
      "EPOCH 26 ...\n",
      "Validation Accuracy = 0.9184\n",
      "\n",
      "EPOCH 27 ...\n",
      "Validation Accuracy = 0.9218\n",
      "\n",
      "EPOCH 28 ...\n",
      "Validation Accuracy = 0.9156\n",
      "\n",
      "EPOCH 29 ...\n",
      "Validation Accuracy = 0.9073\n",
      "\n",
      "EPOCH 30 ...\n",
      "Validation Accuracy = 0.9234\n",
      "\n",
      "EPOCH 31 ...\n",
      "Validation Accuracy = 0.9202\n",
      "\n",
      "EPOCH 32 ...\n",
      "Validation Accuracy = 0.9120\n",
      "\n",
      "EPOCH 33 ...\n",
      "Validation Accuracy = 0.9063\n",
      "\n",
      "EPOCH 34 ...\n",
      "Validation Accuracy = 0.9138\n",
      "\n",
      "EPOCH 35 ...\n",
      "Validation Accuracy = 0.9005\n",
      "\n",
      "EPOCH 36 ...\n",
      "Validation Accuracy = 0.9132\n",
      "\n",
      "EPOCH 37 ...\n",
      "Validation Accuracy = 0.9145\n",
      "\n",
      "EPOCH 38 ...\n",
      "Validation Accuracy = 0.9041\n",
      "\n",
      "EPOCH 39 ...\n",
      "Validation Accuracy = 0.9113\n",
      "\n",
      "EPOCH 40 ...\n",
      "Validation Accuracy = 0.9195\n",
      "\n",
      "EPOCH 41 ...\n",
      "Validation Accuracy = 0.9143\n",
      "\n",
      "EPOCH 42 ...\n",
      "Validation Accuracy = 0.9247\n",
      "\n",
      "EPOCH 43 ...\n",
      "Validation Accuracy = 0.9166\n",
      "\n",
      "EPOCH 44 ...\n",
      "Validation Accuracy = 0.9150\n",
      "\n",
      "EPOCH 45 ...\n",
      "Validation Accuracy = 0.9161\n",
      "\n",
      "EPOCH 46 ...\n",
      "Validation Accuracy = 0.9215\n",
      "\n",
      "EPOCH 47 ...\n",
      "Validation Accuracy = 0.9091\n",
      "\n",
      "EPOCH 48 ...\n",
      "Validation Accuracy = 0.9249\n",
      "\n",
      "EPOCH 49 ...\n",
      "Validation Accuracy = 0.9279\n",
      "\n",
      "EPOCH 50 ...\n",
      "Validation Accuracy = 0.9197\n",
      "\n",
      "EPOCH 51 ...\n",
      "Validation Accuracy = 0.9283\n",
      "\n",
      "EPOCH 52 ...\n",
      "Validation Accuracy = 0.9234\n",
      "\n",
      "EPOCH 53 ...\n",
      "Validation Accuracy = 0.9315\n",
      "\n",
      "EPOCH 54 ...\n",
      "Validation Accuracy = 0.9032\n",
      "\n",
      "EPOCH 55 ...\n",
      "Validation Accuracy = 0.9209\n",
      "\n",
      "EPOCH 56 ...\n",
      "Validation Accuracy = 0.9086\n",
      "\n",
      "EPOCH 57 ...\n",
      "Validation Accuracy = 0.9220\n",
      "\n",
      "EPOCH 58 ...\n",
      "Validation Accuracy = 0.9238\n",
      "\n",
      "EPOCH 59 ...\n",
      "Validation Accuracy = 0.9204\n",
      "\n",
      "EPOCH 60 ...\n",
      "Validation Accuracy = 0.9086\n",
      "\n",
      "EPOCH 61 ...\n",
      "Validation Accuracy = 0.9270\n",
      "\n",
      "EPOCH 62 ...\n",
      "Validation Accuracy = 0.9002\n",
      "\n",
      "EPOCH 63 ...\n",
      "Validation Accuracy = 0.9005\n",
      "\n",
      "EPOCH 64 ...\n",
      "Validation Accuracy = 0.9268\n",
      "\n",
      "EPOCH 65 ...\n",
      "Validation Accuracy = 0.9222\n",
      "\n",
      "EPOCH 66 ...\n",
      "Validation Accuracy = 0.9204\n",
      "\n",
      "EPOCH 67 ...\n",
      "Validation Accuracy = 0.8873\n",
      "\n",
      "EPOCH 68 ...\n",
      "Validation Accuracy = 0.9193\n",
      "\n",
      "EPOCH 69 ...\n",
      "Validation Accuracy = 0.9247\n",
      "\n",
      "EPOCH 70 ...\n",
      "Validation Accuracy = 0.9308\n",
      "\n",
      "EPOCH 71 ...\n",
      "Validation Accuracy = 0.9177\n",
      "\n",
      "EPOCH 72 ...\n",
      "Validation Accuracy = 0.9249\n",
      "\n",
      "EPOCH 73 ...\n",
      "Validation Accuracy = 0.9070\n",
      "\n",
      "EPOCH 74 ...\n",
      "Validation Accuracy = 0.9231\n",
      "\n",
      "EPOCH 75 ...\n",
      "Validation Accuracy = 0.9327\n",
      "\n",
      "EPOCH 76 ...\n",
      "Validation Accuracy = 0.9311\n",
      "\n",
      "EPOCH 77 ...\n",
      "Validation Accuracy = 0.9170\n",
      "\n",
      "EPOCH 78 ...\n",
      "Validation Accuracy = 0.9249\n",
      "\n",
      "EPOCH 79 ...\n",
      "Validation Accuracy = 0.9211\n",
      "\n",
      "EPOCH 80 ...\n",
      "Validation Accuracy = 0.9206\n",
      "\n",
      "EPOCH 81 ...\n",
      "Validation Accuracy = 0.9184\n",
      "\n",
      "EPOCH 82 ...\n",
      "Validation Accuracy = 0.9295\n",
      "\n",
      "EPOCH 83 ...\n",
      "Validation Accuracy = 0.9220\n",
      "\n",
      "EPOCH 84 ...\n",
      "Validation Accuracy = 0.9261\n",
      "\n",
      "EPOCH 85 ...\n",
      "Validation Accuracy = 0.9224\n",
      "\n",
      "EPOCH 86 ...\n",
      "Validation Accuracy = 0.9333\n",
      "\n",
      "EPOCH 87 ...\n",
      "Validation Accuracy = 0.9254\n",
      "\n",
      "EPOCH 88 ...\n",
      "Validation Accuracy = 0.9084\n",
      "\n",
      "EPOCH 89 ...\n",
      "Validation Accuracy = 0.9322\n",
      "\n",
      "EPOCH 90 ...\n",
      "Validation Accuracy = 0.9290\n",
      "\n",
      "EPOCH 91 ...\n",
      "Validation Accuracy = 0.9288\n",
      "\n",
      "EPOCH 92 ...\n",
      "Validation Accuracy = 0.9261\n",
      "\n",
      "EPOCH 93 ...\n",
      "Validation Accuracy = 0.9188\n",
      "\n",
      "EPOCH 94 ...\n",
      "Validation Accuracy = 0.9249\n",
      "\n",
      "EPOCH 95 ...\n",
      "Validation Accuracy = 0.9190\n",
      "\n",
      "EPOCH 96 ...\n",
      "Validation Accuracy = 0.9118\n",
      "\n",
      "EPOCH 97 ...\n",
      "Validation Accuracy = 0.9254\n",
      "\n",
      "EPOCH 98 ...\n",
      "Validation Accuracy = 0.9170\n",
      "\n",
      "EPOCH 99 ...\n",
      "Validation Accuracy = 0.9288\n",
      "\n",
      "EPOCH 100 ...\n",
      "Validation Accuracy = 0.9313\n",
      "\n",
      "EPOCH 101 ...\n",
      "Validation Accuracy = 0.9175\n",
      "\n",
      "EPOCH 102 ...\n",
      "Validation Accuracy = 0.9295\n",
      "\n",
      "EPOCH 103 ...\n",
      "Validation Accuracy = 0.9283\n",
      "\n",
      "EPOCH 104 ...\n",
      "Validation Accuracy = 0.9317\n",
      "\n",
      "EPOCH 105 ...\n",
      "Validation Accuracy = 0.9290\n",
      "\n",
      "EPOCH 106 ...\n",
      "Validation Accuracy = 0.9177\n",
      "\n",
      "EPOCH 107 ...\n",
      "Validation Accuracy = 0.9290\n",
      "\n",
      "EPOCH 108 ...\n",
      "Validation Accuracy = 0.9195\n",
      "\n",
      "EPOCH 109 ...\n",
      "Validation Accuracy = 0.9349\n",
      "\n",
      "EPOCH 110 ...\n",
      "Validation Accuracy = 0.9338\n",
      "\n",
      "EPOCH 111 ...\n",
      "Validation Accuracy = 0.9315\n",
      "\n",
      "EPOCH 112 ...\n",
      "Validation Accuracy = 0.9293\n",
      "\n",
      "EPOCH 113 ...\n",
      "Validation Accuracy = 0.9351\n",
      "\n",
      "EPOCH 114 ...\n",
      "Validation Accuracy = 0.9306\n",
      "\n",
      "EPOCH 115 ...\n",
      "Validation Accuracy = 0.9252\n",
      "\n",
      "EPOCH 116 ...\n",
      "Validation Accuracy = 0.9327\n",
      "\n",
      "EPOCH 117 ...\n",
      "Validation Accuracy = 0.9220\n",
      "\n",
      "EPOCH 118 ...\n",
      "Validation Accuracy = 0.9329\n",
      "\n",
      "EPOCH 119 ...\n",
      "Validation Accuracy = 0.9259\n",
      "\n",
      "EPOCH 120 ...\n",
      "Validation Accuracy = 0.9308\n",
      "\n",
      "Model saved\n"
     ]
    }
   ],
   "source": [
    "# Training pipeline and evaluation\n",
    "\n",
    "import tensorflow as tf\n",
    "\n",
    "x = tf.placeholder(tf.float32, (None, 32, 32, 1))\n",
    "y = tf.placeholder(tf.int32, (None))\n",
    "one_hot_y = tf.one_hot(y, 43)\n",
    "logits = LeNet(x)\n",
    "cross_entropy = tf.nn.softmax_cross_entropy_with_logits(logits, one_hot_y)\n",
    "loss_operation = tf.reduce_mean(cross_entropy)\n",
    "optimizer = tf.train.AdamOptimizer(learning_rate = rate)\n",
    "training_operation = optimizer.minimize(loss_operation)\n",
    "\n",
    "correct_prediction = tf.equal(tf.argmax(logits, 1), tf.argmax(one_hot_y, 1))\n",
    "accuracy_operation = tf.reduce_mean(tf.cast(correct_prediction, tf.float32))\n",
    "saver = tf.train.Saver()\n",
    "\n",
    "def evaluate(X_data, y_data):\n",
    "    num_examples = len(X_data)\n",
    "    total_accuracy = 0\n",
    "    sess = tf.get_default_session()\n",
    "    for offset in range(0, num_examples, BATCH_SIZE):\n",
    "        batch_x, batch_y = X_data[offset:offset+BATCH_SIZE], y_data[offset:offset+BATCH_SIZE]\n",
    "        accuracy = sess.run(accuracy_operation, feed_dict={x: batch_x, y: batch_y})\n",
    "        total_accuracy += (accuracy * len(batch_x))\n",
    "    return total_accuracy / num_examples\n",
    "\n",
    "with tf.Session() as sess:\n",
    "    sess.run(tf.global_variables_initializer())\n",
    "    num_examples = len(X_train)\n",
    "    print(\"Training...\")\n",
    "    print()\n",
    "    for i in range(EPOCHS):\n",
    "        X_train, y_train = shuffle(X_train, y_train)\n",
    "        for offset in range(0, num_examples, BATCH_SIZE):\n",
    "            end = offset + BATCH_SIZE\n",
    "            batch_x, batch_y = X_train[offset:end], y_train[offset:end]\n",
    "            sess.run(training_operation, feed_dict={x: batch_x, y: batch_y})\n",
    "        validation_accuracy = evaluate(X_valid, y_valid)\n",
    "        print(\"EPOCH {} ...\".format(i+1))\n",
    "        print(\"Validation Accuracy = {:.4f}\".format(validation_accuracy))\n",
    "        print()\n",
    "        \n",
    "    saver.save(sess, './lenet')\n",
    "    print(\"Model saved\")"
   ]
  },
  {
   "cell_type": "code",
   "execution_count": 11,
   "metadata": {
    "collapsed": false,
    "deletable": true,
    "editable": true
   },
   "outputs": [
    {
     "name": "stdout",
     "output_type": "stream",
     "text": [
      "Test Accuracy = 0.8964\n"
     ]
    }
   ],
   "source": [
    "with tf.Session() as sess:\n",
    "    sess.run(tf.global_variables_initializer())\n",
    "    saver.restore(sess, tf.train.latest_checkpoint('.'))\n",
    "\n",
    "    test_accuracy = evaluate(X_test, y_test)\n",
    "    print(\"Test Accuracy = {:.4f}\".format(test_accuracy))"
   ]
  },
  {
   "cell_type": "markdown",
   "metadata": {
    "deletable": true,
    "editable": true
   },
   "source": [
    "## Step 3: Test a Model on New Images\n",
    "\n",
    "To give yourself more insight into how your model is working, download at least five pictures of German traffic signs from the web and use your model to predict the traffic sign type.\n",
    "\n",
    "You may find `signnames.csv` useful as it contains mappings from the class id (integer) to the actual sign name."
   ]
  },
  {
   "cell_type": "code",
   "execution_count": 12,
   "metadata": {
    "collapsed": false,
    "deletable": true,
    "editable": true
   },
   "outputs": [],
   "source": [
    "import pandas as pd\n",
    "import urllib.request\n",
    "\n",
    "def download_decode_crop_resize(url, x0=None, y0=None, x1=None, y1=None, w=None, h=None):\n",
    "    image = cv2.imdecode(np.frombuffer(urllib.request.urlopen(url).read(), np.uint8), cv2.IMREAD_REDUCED_COLOR_8)\n",
    "\n",
    "    if x0 is None:\n",
    "        x0 = 0\n",
    "\n",
    "    if y0 is None:\n",
    "        y0 = 0\n",
    "\n",
    "    if x1 is None:\n",
    "        x1 = x0 + image.shape[1]\n",
    "\n",
    "    if y1 is None:\n",
    "        y1 = y0 + image.shape[0]\n",
    "\n",
    "    if w is None:\n",
    "        w = x1 - x0\n",
    "\n",
    "    if h is None:\n",
    "        h = y1 - y0\n",
    "\n",
    "    return cv2.cvtColor(cv2.resize(image[y0:y1, x0:x1], (w, h)), cv2.COLOR_RGB2BGR)\n",
    "\n",
    "signnames = pd.read_csv('signnames.csv').SignName.tolist()\n",
    "\n",
    "sources = (\n",
    "    (23, 'https://image.shutterstock.com/z/stock-photo-too-many-traffic-signs-on-white-background-71581573.jpg', 394, 130, 646, 364),\n",
    "    (42, 'https://image.shutterstock.com/z/stock-photo-too-many-traffic-signs-on-white-background-71581573.jpg', 176, 482, 394, 716),\n",
    "    (17, 'https://image.shutterstock.com/z/stock-photo-too-many-traffic-signs-on-white-background-71581573.jpg', 766, 424, 970, 638),\n",
    "    (36, 'https://image.shutterstock.com/z/stock-photo-too-many-traffic-signs-on-white-background-71581573.jpg', 874, 264, 1032, 446),\n",
    "    (25, 'https://image.shutterstock.com/z/stock-photo-too-many-traffic-signs-on-white-background-71581573.jpg', 708, 214, 856, 378),\n",
    "    (26, 'https://image.shutterstock.com/z/stock-photo-too-many-traffic-signs-on-white-background-71581573.jpg', 1096, 274, 1270, 454),\n",
    "    (28, 'https://image.shutterstock.com/z/stock-photo-too-many-traffic-signs-on-white-background-71581573.jpg', 1259, 274, 1396, 399)\n",
    ")"
   ]
  },
  {
   "cell_type": "markdown",
   "metadata": {
    "deletable": true,
    "editable": true
   },
   "source": [
    "### Load and Output the Images"
   ]
  },
  {
   "cell_type": "code",
   "execution_count": 13,
   "metadata": {
    "collapsed": false,
    "deletable": true,
    "editable": true
   },
   "outputs": [
    {
     "data": {
      "image/png": "[encoded data removed]",
      "text/plain": [
       "<matplotlib.figure.Figure at 0x7fd0eed3cb38>"
      ]
     },
     "metadata": {},
     "output_type": "display_data"
    }
   ],
   "source": [
    "X_web = []\n",
    "y_web = []\n",
    "\n",
    "fig, axes = plt.subplots(len(sources), 1, figsize=(16, 16))\n",
    "\n",
    "for ax, source in zip(axes.flat, sources):\n",
    "    id, url, x0, y0, x1, y1 = source\n",
    "    image = download_decode_crop_resize(url, x0, y0, x1, y1, 32, 32)\n",
    "    gray = gray_normalized(image)\n",
    "    X_web.append(gray_normalized(image))\n",
    "    y_web.append(id)\n",
    "    ax.set(xticks=[], yticks=[])\n",
    "    ax.set_title(\"Sign: {}\".format(signnames[id]))\n",
    "    ax.imshow(image)\n",
    "\n",
    "fig.tight_layout()\n",
    "plt.show()\n",
    "\n",
    "X_web = np.reshape(X_web, (len(sources), 32, 32, 1))\n",
    "y_web = np.asarray(y_web)"
   ]
  },
  {
   "cell_type": "markdown",
   "metadata": {
    "deletable": true,
    "editable": true
   },
   "source": [
    "### Predict the Sign Type for Each Image"
   ]
  },
  {
   "cell_type": "code",
   "execution_count": 14,
   "metadata": {
    "collapsed": false,
    "deletable": true,
    "editable": true
   },
   "outputs": [
    {
     "name": "stdout",
     "output_type": "stream",
     "text": [
      "Sign = Slippery road / Prediction = Slippery road\n",
      "Sign = End of no passing by vehicles over 3.5 metric tons / Prediction = Ahead only\n",
      "Sign = No entry / Prediction = No entry\n",
      "Sign = Go straight or right / Prediction = Go straight or right\n",
      "Sign = Road work / Prediction = Road work\n",
      "Sign = Traffic signals / Prediction = Traffic signals\n",
      "Sign = Children crossing / Prediction = Children crossing\n"
     ]
    }
   ],
   "source": [
    "softmax = tf.nn.softmax(logits)\n",
    "\n",
    "hits = 0\n",
    "\n",
    "with tf.Session() as sess:\n",
    "    sess.run(tf.global_variables_initializer())\n",
    "    saver.restore(sess, tf.train.latest_checkpoint('.'))\n",
    "    predictions = sess.run(softmax, feed_dict={x: X_web})\n",
    "    indexes = np.argmax(predictions, axis=1)\n",
    "    \n",
    "for i in range(len(y_web)):\n",
    "    if y_web[i] == indexes[i]:\n",
    "        hits += 1\n",
    "    print(\"Sign = {} / Prediction = {}\".format(signnames[y_web[i]], signnames[indexes[i]]))"
   ]
  },
  {
   "cell_type": "markdown",
   "metadata": {
    "deletable": true,
    "editable": true
   },
   "source": [
    "### Analyze Performance"
   ]
  },
  {
   "cell_type": "code",
   "execution_count": 15,
   "metadata": {
    "collapsed": false,
    "deletable": true,
    "editable": true
   },
   "outputs": [
    {
     "name": "stdout",
     "output_type": "stream",
     "text": [
      "Accuracy = 86%\n"
     ]
    }
   ],
   "source": [
    "print(\"Accuracy = {:.0%}\".format(hits/len(y_web)))"
   ]
  },
  {
   "cell_type": "markdown",
   "metadata": {
    "deletable": true,
    "editable": true
   },
   "source": [
    "### Output Top 5 Softmax Probabilities For Each Image Found on the Web"
   ]
  },
  {
   "cell_type": "markdown",
   "metadata": {
    "deletable": true,
    "editable": true
   },
   "source": [
    "For each of the new images, print out the model's softmax probabilities to show the **certainty** of the model's predictions (limit the output to the top 5 probabilities for each image). [`tf.nn.top_k`](https://www.tensorflow.org/versions/r0.12/api_docs/python/nn.html#top_k) could prove helpful here. \n",
    "\n",
    "The example below demonstrates how tf.nn.top_k can be used to find the top k predictions for each image.\n",
    "\n",
    "`tf.nn.top_k` will return the values and indices (class ids) of the top k predictions. So if k=3, for each sign, it'll return the 3 largest probabilities (out of a possible 43) and the correspoding class ids.\n",
    "\n",
    "Take this numpy array as an example. The values in the array represent predictions. The array contains softmax probabilities for five candidate images with six possible classes. `tk.nn.top_k` is used to choose the three classes with the highest probability:\n",
    "\n",
    "```\n",
    "# (5, 6) array\n",
    "a = np.array([[ 0.24879643,  0.07032244,  0.12641572,  0.34763842,  0.07893497,\n",
    "         0.12789202],\n",
    "       [ 0.28086119,  0.27569815,  0.08594638,  0.0178669 ,  0.18063401,\n",
    "         0.15899337],\n",
    "       [ 0.26076848,  0.23664738,  0.08020603,  0.07001922,  0.1134371 ,\n",
    "         0.23892179],\n",
    "       [ 0.11943333,  0.29198961,  0.02605103,  0.26234032,  0.1351348 ,\n",
    "         0.16505091],\n",
    "       [ 0.09561176,  0.34396535,  0.0643941 ,  0.16240774,  0.24206137,\n",
    "         0.09155967]])\n",
    "```\n",
    "\n",
    "Running it through `sess.run(tf.nn.top_k(tf.constant(a), k=3))` produces:\n",
    "\n",
    "```\n",
    "TopKV2(values=array([[ 0.34763842,  0.24879643,  0.12789202],\n",
    "       [ 0.28086119,  0.27569815,  0.18063401],\n",
    "       [ 0.26076848,  0.23892179,  0.23664738],\n",
    "       [ 0.29198961,  0.26234032,  0.16505091],\n",
    "       [ 0.34396535,  0.24206137,  0.16240774]]), indices=array([[3, 0, 5],\n",
    "       [0, 1, 4],\n",
    "       [0, 5, 1],\n",
    "       [1, 3, 5],\n",
    "       [1, 4, 3]], dtype=int32))\n",
    "```\n",
    "\n",
    "Looking just at the first row we get `[ 0.34763842,  0.24879643,  0.12789202]`, you can confirm these are the 3 largest probabilities in `a`. You'll also notice `[3, 0, 5]` are the corresponding indices."
   ]
  },
  {
   "cell_type": "code",
   "execution_count": 16,
   "metadata": {
    "collapsed": false,
    "deletable": true,
    "editable": true
   },
   "outputs": [
    {
     "name": "stdout",
     "output_type": "stream",
     "text": [
      "[(array([23,  0,  1,  2,  3], dtype=int32), array([ 1.,  0.,  0.,  0.,  0.], dtype=float32)), (array([35,  0,  1,  2,  3], dtype=int32), array([ 1.,  0.,  0.,  0.,  0.], dtype=float32)), (array([17,  0,  1,  2,  3], dtype=int32), array([ 1.,  0.,  0.,  0.,  0.], dtype=float32)), (array([36,  0,  1,  2,  3], dtype=int32), array([ 1.,  0.,  0.,  0.,  0.], dtype=float32)), (array([25,  0,  1,  2,  3], dtype=int32), array([ 1.,  0.,  0.,  0.,  0.], dtype=float32)), (array([26, 24, 27, 19,  0], dtype=int32), array([  1.00000000e+00,   4.02206064e-26,   5.46678104e-27,\n",
      "         4.45913542e-34,   0.00000000e+00], dtype=float32)), (array([28, 29, 30, 22, 19], dtype=int32), array([  1.00000000e+00,   4.23367764e-12,   2.66421450e-20,\n",
      "         2.09635989e-25,   1.69430730e-32], dtype=float32))]\n"
     ]
    }
   ],
   "source": [
    "top_five = tf.nn.top_k(softmax, k=5)\n",
    "\n",
    "with tf.Session() as sess:\n",
    "    sess.run(tf.global_variables_initializer())\n",
    "    saver.restore(sess, tf.train.latest_checkpoint('.'))\n",
    "    probs, indexes = sess.run(top_five, feed_dict={x: X_web})\n",
    "    print(list(zip(indexes, probs)))"
   ]
  },
  {
   "cell_type": "code",
   "execution_count": 17,
   "metadata": {
    "collapsed": false
   },
   "outputs": [
    {
     "data": {
      "image/png": "[encoded data removed]",
      "text/plain": [
       "<matplotlib.figure.Figure at 0x7fd0fd379e48>"
      ]
     },
     "metadata": {},
     "output_type": "display_data"
    }
   ],
   "source": [
    "fig, axes = plt.subplots(len(sources), 2, figsize=(16, 16))\n",
    "\n",
    "for i in range(len(sources)):\n",
    "    id, url, x0, y0, x1, y1 = sources[i]\n",
    "    image = download_decode_crop_resize(url, x0, y0, x1, y1, 32, 32)\n",
    "    axes[i, 0].set(xticks=[], yticks=[])\n",
    "    axes[i, 0].imshow(image)\n",
    "    y_label = list(map(lambda x: signnames[x], indexes[i]))\n",
    "    y_pos = range(len(y_label));\n",
    "    axes[i, 1].barh(y_pos, probs[i])\n",
    "    axes[i, 1].set_yticks(y_pos)\n",
    "    axes[i, 1].set_yticklabels(y_label)\n",
    "    axes[i, 1].invert_yaxis()\n",
    "    \n",
    "fig.tight_layout()\n",
    "plt.show()"
   ]
  },
  {
   "cell_type": "markdown",
   "metadata": {
    "deletable": true,
    "editable": true
   },
   "source": [
    "---\n",
    "\n",
    "## Step 4: Visualize the Neural Network's State with Test Images\n",
    "\n",
    " This Section is not required to complete but acts as an additional excersise for understaning the output of a neural network's weights. While neural networks can be a great learning device they are often referred to as a black box. We can understand what the weights of a neural network look like better by plotting their feature maps. After successfully training your neural network you can see what it's feature maps look like by plotting the output of the network's weight layers in response to a test stimuli image. From these plotted feature maps, it's possible to see what characteristics of an image the network finds interesting. For a sign, maybe the inner network feature maps react with high activation to the sign's boundary outline or to the contrast in the sign's painted symbol.\n",
    "\n",
    " Provided for you below is the function code that allows you to get the visualization output of any tensorflow weight layer you want. The inputs to the function should be a stimuli image, one used during training or a new one you provided, and then the tensorflow variable name that represents the layer's state during the training process, for instance if you wanted to see what the [LeNet lab's](https://classroom.udacity.com/nanodegrees/nd013/parts/fbf77062-5703-404e-b60c-95b78b2f3f9e/modules/6df7ae49-c61c-4bb2-a23e-6527e69209ec/lessons/601ae704-1035-4287-8b11-e2c2716217ad/concepts/d4aca031-508f-4e0b-b493-e7b706120f81) feature maps looked like for it's second convolutional layer you could enter conv2 as the tf_activation variable.\n",
    "\n",
    "For an example of what feature map outputs look like, check out NVIDIA's results in their paper [End-to-End Deep Learning for Self-Driving Cars](https://devblogs.nvidia.com/parallelforall/deep-learning-self-driving-cars/) in the section Visualization of internal CNN State. NVIDIA was able to show that their network's inner weights had high activations to road boundary lines by comparing feature maps from an image with a clear path to one without. Try experimenting with a similar test to show that your trained network's weights are looking for interesting features, whether it's looking at differences in feature maps from images with or without a sign, or even what feature maps look like in a trained network vs a completely untrained one on the same sign image.\n",
    "\n",
    "<figure>\n",
    " <img src=\"visualize_cnn.png\" width=\"380\" alt=\"Combined Image\" />\n",
    " <figcaption>\n",
    " <p></p> \n",
    " <p style=\"text-align: center;\"> Your output should look something like this (above)</p> \n",
    " </figcaption>\n",
    "</figure>\n",
    " <p></p> \n"
   ]
  },
  {
   "cell_type": "code",
   "execution_count": null,
   "metadata": {
    "collapsed": true
   },
   "outputs": [],
   "source": [
    "### Visualize your network's feature maps here.\n",
    "### Feel free to use as many code cells as needed.\n",
    "\n",
    "# image_input: the test image being fed into the network to produce the feature maps\n",
    "# tf_activation: should be a tf variable name used during your training procedure that represents the calculated state of a specific weight layer\n",
    "# activation_min/max: can be used to view the activation contrast in more detail, by default matplot sets min and max to the actual min and max values of the output\n",
    "# plt_num: used to plot out multiple different weight feature map sets on the same block, just extend the plt number for each new feature map entry\n",
    "\n",
    "def outputFeatureMap(image_input, tf_activation, activation_min=-1, activation_max=-1 ,plt_num=1):\n",
    "    # Here make sure to preprocess your image_input in a way your network expects\n",
    "    # with size, normalization, ect if needed\n",
    "    # image_input =\n",
    "    # Note: x should be the same name as your network's tensorflow data placeholder variable\n",
    "    # If you get an error tf_activation is not defined it maybe having trouble accessing the variable from inside a function\n",
    "    activation = tf_activation.eval(session=sess,feed_dict={x : image_input})\n",
    "    featuremaps = activation.shape[3]\n",
    "    plt.figure(plt_num, figsize=(15,15))\n",
    "    for featuremap in range(featuremaps):\n",
    "        plt.subplot(6,8, featuremap+1) # sets the number of feature maps to show on each row and column\n",
    "        plt.title('FeatureMap ' + str(featuremap)) # displays the feature map number\n",
    "        if activation_min != -1 & activation_max != -1:\n",
    "            plt.imshow(activation[0,:,:, featuremap], interpolation=\"nearest\", vmin =activation_min, vmax=activation_max, cmap=\"gray\")\n",
    "        elif activation_max != -1:\n",
    "            plt.imshow(activation[0,:,:, featuremap], interpolation=\"nearest\", vmax=activation_max, cmap=\"gray\")\n",
    "        elif activation_min !=-1:\n",
    "            plt.imshow(activation[0,:,:, featuremap], interpolation=\"nearest\", vmin=activation_min, cmap=\"gray\")\n",
    "        else:\n",
    "            plt.imshow(activation[0,:,:, featuremap], interpolation=\"nearest\", cmap=\"gray\")"
   ]
  },
  {
   "cell_type": "markdown",
   "metadata": {},
   "source": [
    "### Question 9\n",
    "\n",
    "Discuss how you used the visual output of your trained network's feature maps to show that it had learned to look for interesting characteristics in traffic sign images\n"
   ]
  },
  {
   "cell_type": "markdown",
   "metadata": {},
   "source": [
    "**Answer:**"
   ]
  },
  {
   "cell_type": "markdown",
   "metadata": {},
   "source": [
    "> **Note**: Once you have completed all of the code implementations and successfully answered each question above, you may finalize your work by exporting the iPython Notebook as an HTML document. You can do this by using the menu above and navigating to  \\n\",\n",
    "    \"**File -> Download as -> HTML (.html)**. Include the finished document along with this notebook as your submission."
   ]
  },
  {
   "cell_type": "markdown",
   "metadata": {
    "deletable": true,
    "editable": true
   },
   "source": [
    "### Project Writeup\n",
    "\n",
    "Once you have completed the code implementation, document your results in a project writeup using this [template](https://github.com/udacity/CarND-Traffic-Sign-Classifier-Project/blob/master/writeup_template.md) as a guide. The writeup can be in a markdown or pdf file. "
   ]
  }
 ],
 "metadata": {
  "anaconda-cloud": {},
  "kernelspec": {
   "display_name": "Python [default]",
   "language": "python",
   "name": "python3"
  },
  "language_info": {
   "codemirror_mode": {
    "name": "ipython",
    "version": 3.0
   },
   "file_extension": ".py",
   "mimetype": "text/x-python",
   "name": "python",
   "nbconvert_exporter": "python",
   "pygments_lexer": "ipython3",
   "version": "3.5.2"
  },
  "widgets": {
   "state": {},
   "version": "1.1.2"
  }
 },
 "nbformat": 4,
 "nbformat_minor": 0
}