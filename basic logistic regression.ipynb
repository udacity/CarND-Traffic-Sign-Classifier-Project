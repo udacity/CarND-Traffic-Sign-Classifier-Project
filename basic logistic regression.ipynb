{
 "cells": [
  {
   "cell_type": "code",
   "execution_count": 1,
   "metadata": {
    "collapsed": true
   },
   "outputs": [],
   "source": [
    "import os.path\n",
    "has_train_data = os.path.isfile('train.p') \n",
    "if not has_train_data:\n",
    "    from zipfile import ZipFile\n",
    "    import urllib.request\n",
    "    from tempfile import mktemp\n",
    "\n",
    "    zipurl = 'https://d17h27t6h515a5.cloudfront.net/topher/2016/November/581faac4_traffic-signs-data/traffic-signs-data.zip'\n",
    "    from urllib.request import urlopen\n",
    "    from zipfile import ZipFile\n",
    "    zipresp = urlopen(zipurl)\n",
    "    tempzip = open(\"/tmp/tempfile.zip\", \"wb\")\n",
    "    tempzip.write(zipresp.read())\n",
    "    tempzip.close()\n",
    "    zf = ZipFile(\"/tmp/tempfile.zip\")\n",
    "    zf.extractall()\n",
    "    zf.close()"
   ]
  },
  {
   "cell_type": "code",
   "execution_count": 2,
   "metadata": {
    "collapsed": true
   },
   "outputs": [],
   "source": [
    "import pickle\n",
    "train_data = 'train.p'\n",
    "test_data = 'test.p'\n",
    "with open(train_data, 'rb') as f:\n",
    "    pickle_data = pickle.load(f)\n",
    "    train_features = pickle_data['features']\n",
    "    train_labels = pickle_data['labels']\n",
    "    del pickle_data  # Free up memory\n",
    "with open(test_data, 'rb') as f:\n",
    "    pickle_data = pickle.load(f)\n",
    "    test_features = pickle_data['features']\n",
    "    test_labels = pickle_data['labels']\n",
    "    del pickle_data  # Free up memory\n"
   ]
  },
  {
   "cell_type": "code",
   "execution_count": 3,
   "metadata": {
    "collapsed": false
   },
   "outputs": [],
   "source": [
    "import cv2\n",
    "import numpy as np\n",
    "gray_train_features = [np.array(cv2.cvtColor(image, cv2.COLOR_BGR2GRAY),dtype=np.float32).flatten() for image in  train_features]\n",
    "gray_test_features = [np.array(cv2.cvtColor(image, cv2.COLOR_BGR2GRAY),dtype=np.float32).flatten() for image in  test_features]"
   ]
  },
  {
   "cell_type": "code",
   "execution_count": 4,
   "metadata": {
    "collapsed": true
   },
   "outputs": [],
   "source": [
    "def normalize_greyscale(image, a=0.1, b=0.9,grey_min=0,grey_max=255):\n",
    "    return a + ( ( (image - grey_min)*(b - a) )/( grey_max - grey_min ) )\n",
    "train_features = [normalize_greyscale(image) for image in gray_train_features]\n",
    "test_features = [normalize_greyscale(image) for image in gray_test_features]"
   ]
  },
  {
   "cell_type": "code",
   "execution_count": 5,
   "metadata": {
    "collapsed": true
   },
   "outputs": [],
   "source": [
    "from sklearn.preprocessing import LabelBinarizer\n",
    "encoder = LabelBinarizer()\n",
    "encoder.fit(train_labels)\n",
    "train_labels = encoder.transform(train_labels)\n",
    "test_labels = encoder.transform(test_labels)"
   ]
  },
  {
   "cell_type": "code",
   "execution_count": 6,
   "metadata": {
    "collapsed": false
   },
   "outputs": [],
   "source": [
    "from sklearn.utils import shuffle\n",
    "train_features, train_labels = shuffle(train_features, train_labels)"
   ]
  },
  {
   "cell_type": "code",
   "execution_count": 7,
   "metadata": {
    "collapsed": true
   },
   "outputs": [],
   "source": [
    "# Change to float32, so it can be multiplied against the features in TensorFlow, which are float32\n",
    "train_labels = train_labels.astype(np.float32)\n",
    "test_labels = test_labels.astype(np.float32)"
   ]
  },
  {
   "cell_type": "code",
   "execution_count": 8,
   "metadata": {
    "collapsed": true
   },
   "outputs": [],
   "source": [
    "import tensorflow as tf\n",
    "\n",
    "# Parameters\n",
    "learning_rate = 0.01\n",
    "training_epochs = 100\n",
    "batch_size = 50\n",
    "display_step = 1\n",
    "\n",
    "\n",
    "\n",
    "# tf Graph Input\n",
    "x = tf.placeholder(tf.float32, [None, 1024]) # image of shape 32*32=1024\n",
    "y = tf.placeholder(tf.float32, [None, 43]) # 43 classes\n",
    "\n",
    "# Set model weights\n",
    "W = tf.Variable(tf.zeros([1024, 43]))\n",
    "b = tf.Variable(tf.zeros([43]))\n",
    "\n",
    "pred = tf.nn.softmax(tf.matmul(x, W) + b) # Softmax\n",
    "\n",
    "# Minimize error using cross entropy\n",
    "cost = tf.reduce_mean(-tf.reduce_sum(y*tf.log(pred), reduction_indices=1))\n",
    "# Gradient Descent\n",
    "optimizer = tf.train.GradientDescentOptimizer(learning_rate).minimize(cost)\n",
    "\n",
    "# Initializing the variables\n",
    "init = tf.initialize_all_variables()"
   ]
  },
  {
   "cell_type": "code",
   "execution_count": 9,
   "metadata": {
    "collapsed": false
   },
   "outputs": [
    {
     "name": "stdout",
     "output_type": "stream",
     "text": [
      "Epoch: 0001 cost= 3.337981052\n",
      "Epoch: 0002 cost= 3.061577649\n",
      "Epoch: 0003 cost= 2.869748512\n",
      "Epoch: 0004 cost= 2.722291455\n",
      "Epoch: 0005 cost= 2.603159435\n",
      "Epoch: 0006 cost= 2.503220857\n",
      "Epoch: 0007 cost= 2.417062013\n",
      "Epoch: 0008 cost= 2.341296130\n",
      "Epoch: 0009 cost= 2.273683978\n",
      "Epoch: 0010 cost= 2.212670266\n",
      "Epoch: 0011 cost= 2.157127867\n",
      "Epoch: 0012 cost= 2.106209807\n",
      "Epoch: 0013 cost= 2.059260179\n",
      "Epoch: 0014 cost= 2.015758291\n",
      "Epoch: 0015 cost= 1.975282274\n",
      "Epoch: 0016 cost= 1.937484513\n",
      "Epoch: 0017 cost= 1.902074352\n",
      "Epoch: 0018 cost= 1.868805727\n",
      "Epoch: 0019 cost= 1.837468043\n",
      "Epoch: 0020 cost= 1.807879406\n",
      "Epoch: 0021 cost= 1.779881487\n",
      "Epoch: 0022 cost= 1.753335585\n",
      "Epoch: 0023 cost= 1.728119377\n",
      "Epoch: 0024 cost= 1.704124596\n",
      "Epoch: 0025 cost= 1.681254874\n",
      "Epoch: 0026 cost= 1.659424215\n",
      "Epoch: 0027 cost= 1.638555417\n",
      "Epoch: 0028 cost= 1.618579145\n",
      "Epoch: 0029 cost= 1.599432869\n",
      "Epoch: 0030 cost= 1.581060019\n",
      "Epoch: 0031 cost= 1.563409231\n",
      "Epoch: 0032 cost= 1.546433821\n",
      "Epoch: 0033 cost= 1.530091236\n",
      "Epoch: 0034 cost= 1.514342511\n",
      "Epoch: 0035 cost= 1.499152104\n",
      "Epoch: 0036 cost= 1.484487249\n",
      "Epoch: 0037 cost= 1.470317899\n",
      "Epoch: 0038 cost= 1.456616272\n",
      "Epoch: 0039 cost= 1.443356773\n",
      "Epoch: 0040 cost= 1.430515744\n",
      "Epoch: 0041 cost= 1.418071195\n",
      "Epoch: 0042 cost= 1.406002801\n",
      "Epoch: 0043 cost= 1.394291582\n",
      "Epoch: 0044 cost= 1.382919951\n",
      "Epoch: 0045 cost= 1.371871473\n",
      "Epoch: 0046 cost= 1.361130792\n",
      "Epoch: 0047 cost= 1.350683572\n",
      "Epoch: 0048 cost= 1.340516365\n",
      "Epoch: 0049 cost= 1.330616642\n",
      "Epoch: 0050 cost= 1.320972599\n",
      "Epoch: 0051 cost= 1.311573138\n",
      "Epoch: 0052 cost= 1.302407830\n",
      "Epoch: 0053 cost= 1.293466920\n",
      "Epoch: 0054 cost= 1.284741108\n",
      "Epoch: 0055 cost= 1.276221717\n",
      "Epoch: 0056 cost= 1.267900545\n",
      "Epoch: 0057 cost= 1.259769804\n",
      "Epoch: 0058 cost= 1.251822158\n",
      "Epoch: 0059 cost= 1.244050638\n",
      "Epoch: 0060 cost= 1.236448671\n",
      "Epoch: 0061 cost= 1.229010037\n",
      "Epoch: 0062 cost= 1.221728748\n",
      "Epoch: 0063 cost= 1.214599204\n",
      "Epoch: 0064 cost= 1.207616091\n",
      "Epoch: 0065 cost= 1.200774332\n",
      "Epoch: 0066 cost= 1.194069037\n",
      "Epoch: 0067 cost= 1.187495648\n",
      "Epoch: 0068 cost= 1.181049762\n",
      "Epoch: 0069 cost= 1.174727201\n",
      "Epoch: 0070 cost= 1.168523949\n",
      "Epoch: 0071 cost= 1.162436258\n",
      "Epoch: 0072 cost= 1.156460404\n",
      "Epoch: 0073 cost= 1.150592960\n",
      "Epoch: 0074 cost= 1.144830610\n",
      "Epoch: 0075 cost= 1.139170139\n",
      "Epoch: 0076 cost= 1.133608467\n",
      "Epoch: 0077 cost= 1.128142749\n",
      "Epoch: 0078 cost= 1.122770132\n",
      "Epoch: 0079 cost= 1.117487945\n",
      "Epoch: 0080 cost= 1.112293614\n",
      "Epoch: 0081 cost= 1.107184648\n",
      "Epoch: 0082 cost= 1.102158719\n",
      "Epoch: 0083 cost= 1.097213491\n",
      "Epoch: 0084 cost= 1.092346815\n",
      "Epoch: 0085 cost= 1.087556524\n",
      "Epoch: 0086 cost= 1.082840623\n",
      "Epoch: 0087 cost= 1.078197188\n",
      "Epoch: 0088 cost= 1.073624267\n",
      "Epoch: 0089 cost= 1.069120119\n",
      "Epoch: 0090 cost= 1.064682973\n",
      "Epoch: 0091 cost= 1.060311136\n",
      "Epoch: 0092 cost= 1.056002955\n",
      "Epoch: 0093 cost= 1.051756927\n",
      "Epoch: 0094 cost= 1.047571489\n",
      "Epoch: 0095 cost= 1.043445175\n",
      "Epoch: 0096 cost= 1.039376576\n",
      "Epoch: 0097 cost= 1.035364364\n",
      "Epoch: 0098 cost= 1.031407190\n",
      "Epoch: 0099 cost= 1.027503785\n",
      "Epoch: 0100 cost= 1.023652911\n",
      "Optimization Finished!\n",
      "Accuracy on test data: 0.71251\n",
      "Accuracy on training data: 0.8091\n"
     ]
    }
   ],
   "source": [
    "# Launch the graph\n",
    "with tf.Session() as sess:\n",
    "    sess.run(init)\n",
    "\n",
    "    # Training cycle\n",
    "    for epoch in range(training_epochs):\n",
    "        avg_cost = 0.\n",
    "        total_batch = int(len(train_features)/batch_size)\n",
    "        # Loop over all batches\n",
    "        for i in range(total_batch):\n",
    "            batch_start = i*batch_size\n",
    "            batch_features = train_features[batch_start:batch_start + batch_size]\n",
    "            batch_labels = train_labels[batch_start:batch_start + batch_size]\n",
    "            \n",
    "            _, c = sess.run([optimizer, cost], feed_dict={x: batch_features, y: batch_labels})\n",
    "            \n",
    "            # Compute average loss\n",
    "            avg_cost += c / total_batch\n",
    "            \n",
    "        # Display logs per epoch step\n",
    "        if (epoch+1) % display_step == 0:\n",
    "            print (\"Epoch:\", '%04d' % (epoch+1), \"cost=\", \"{:.9f}\".format(avg_cost))\n",
    "\n",
    "    print(\"Optimization Finished!\")\n",
    "\n",
    "    # Test model\n",
    "    correct_prediction = tf.equal(tf.argmax(pred, 1), tf.argmax(y, 1))\n",
    "    # Calculate accuracy for 3000 examples\n",
    "    accuracy = tf.reduce_mean(tf.cast(correct_prediction, tf.float32))\n",
    "    print(\"Accuracy on test data:\", accuracy.eval({x: test_features, y: test_labels}))\n",
    "    print(\"Accuracy on training data:\", accuracy.eval({x: train_features, y: train_labels}))"
   ]
  }
 ],
 "metadata": {
  "kernelspec": {
   "display_name": "Python 3",
   "language": "python",
   "name": "python3"
  },
  "language_info": {
   "codemirror_mode": {
    "name": "ipython",
    "version": 3
   },
   "file_extension": ".py",
   "mimetype": "text/x-python",
   "name": "python",
   "nbconvert_exporter": "python",
   "pygments_lexer": "ipython3",
   "version": "3.5.2"
  }
 },
 "nbformat": 4,
 "nbformat_minor": 1
}
