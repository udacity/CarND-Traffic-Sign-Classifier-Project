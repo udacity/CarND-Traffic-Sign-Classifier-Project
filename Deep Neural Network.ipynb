{
 "cells": [
  {
   "cell_type": "code",
   "execution_count": 1,
   "metadata": {
    "collapsed": true
   },
   "outputs": [],
   "source": [
    "import os.path\n",
    "has_train_data = os.path.isfile('train.p') \n",
    "if not has_train_data:\n",
    "    from zipfile import ZipFile\n",
    "    import urllib.request\n",
    "    from tempfile import mktemp\n",
    "\n",
    "    zipurl = 'https://d17h27t6h515a5.cloudfront.net/topher/2016/November/581faac4_traffic-signs-data/traffic-signs-data.zip'\n",
    "    from urllib.request import urlopen\n",
    "    from zipfile import ZipFile\n",
    "    zipresp = urlopen(zipurl)\n",
    "    tempzip = open(\"/tmp/tempfile.zip\", \"wb\")\n",
    "    tempzip.write(zipresp.read())\n",
    "    tempzip.close()\n",
    "    zf = ZipFile(\"/tmp/tempfile.zip\")\n",
    "    zf.extractall()\n",
    "    zf.close()"
   ]
  },
  {
   "cell_type": "code",
   "execution_count": 2,
   "metadata": {
    "collapsed": true
   },
   "outputs": [],
   "source": [
    "import pickle\n",
    "train_data = 'train.p'\n",
    "test_data = 'test.p'\n",
    "with open(train_data, 'rb') as f:\n",
    "    pickle_data = pickle.load(f)\n",
    "    train_features = pickle_data['features']\n",
    "    train_labels = pickle_data['labels']\n",
    "    del pickle_data  # Free up memory\n",
    "with open(test_data, 'rb') as f:\n",
    "    pickle_data = pickle.load(f)\n",
    "    test_features = pickle_data['features']\n",
    "    test_labels = pickle_data['labels']\n",
    "    del pickle_data  # Free up memory"
   ]
  },
  {
   "cell_type": "code",
   "execution_count": 3,
   "metadata": {
    "collapsed": true
   },
   "outputs": [],
   "source": [
    "import cv2\n",
    "import numpy as np\n",
    "gray_train_features = [cv2.cvtColor(image, cv2.COLOR_BGR2GRAY) for image in  train_features]\n",
    "gray_test_features = [cv2.cvtColor(image, cv2.COLOR_BGR2GRAY) for image in  test_features]\n"
   ]
  },
  {
   "cell_type": "code",
   "execution_count": 4,
   "metadata": {
    "collapsed": true
   },
   "outputs": [],
   "source": [
    "def normalize_greyscale(image, a=0.1, b=0.9,grey_min=0,grey_max=255):\n",
    "    return a + ( ( (image - grey_min)*(b - a) )/( grey_max - grey_min ) )\n",
    "train_features = [normalize_greyscale(image) for image in gray_train_features]\n",
    "test_features = [normalize_greyscale(image) for image in gray_test_features]"
   ]
  },
  {
   "cell_type": "code",
   "execution_count": 5,
   "metadata": {
    "collapsed": false
   },
   "outputs": [],
   "source": [
    "from sklearn.utils import shuffle\n",
    "train_features, train_labels = shuffle(train_features,train_labels, random_state=0)"
   ]
  },
  {
   "cell_type": "code",
   "execution_count": 6,
   "metadata": {
    "collapsed": true
   },
   "outputs": [],
   "source": [
    "from sklearn.preprocessing import LabelBinarizer\n",
    "encoder = LabelBinarizer()\n",
    "encoder.fit(train_labels)\n",
    "train_labels = encoder.transform(train_labels)\n",
    "test_labels = encoder.transform(test_labels)"
   ]
  },
  {
   "cell_type": "code",
   "execution_count": 7,
   "metadata": {
    "collapsed": true
   },
   "outputs": [],
   "source": [
    "# Change to float32, so it can be multiplied against the features in TensorFlow, which are float32\n",
    "train_labels = train_labels.astype(np.float32)\n",
    "test_labels = test_labels.astype(np.float32)"
   ]
  },
  {
   "cell_type": "code",
   "execution_count": 8,
   "metadata": {
    "collapsed": true
   },
   "outputs": [],
   "source": [
    "import tensorflow as tf\n",
    "\n",
    "# Parameters\n",
    "learning_rate = 0.01\n",
    "training_epochs = 1000\n",
    "batch_size = 100\n",
    "display_step = 25\n",
    "\n",
    "\n",
    "n_input = 1024\n",
    "n_classes = 43\n",
    "\n",
    "\n",
    "n_hidden_layer = 512\n",
    "\n",
    "\n",
    "\n",
    "weights = {\n",
    "    'hidden_layer': tf.Variable(tf.random_normal([n_input, n_hidden_layer])),\n",
    "    'out': tf.Variable(tf.random_normal([n_hidden_layer, n_classes]))\n",
    "}\n",
    "biases = {\n",
    "    'hidden_layer': tf.Variable(tf.random_normal([n_hidden_layer])),\n",
    "    'out': tf.Variable(tf.random_normal([n_classes]))\n",
    "}\n",
    "\n",
    "# tf Graph input\n",
    "x = tf.placeholder(\"float\", [None, 32, 32])\n",
    "y = tf.placeholder(\"float\", [None, n_classes])\n",
    "\n",
    "x_flat = tf.reshape(x, [-1, n_input])\n",
    "\n",
    "\n",
    "# Hidden layer with RELU activation\n",
    "layer_1 = tf.add(tf.matmul(x_flat, weights['hidden_layer']), biases['hidden_layer'])\n",
    "\n",
    "relu_layer = tf.nn.relu(layer_1)\n",
    "# Output layer with linear activation\n",
    "logits = tf.matmul(relu_layer, weights['out']) + biases['out']\n",
    "\n",
    "# Define loss and optimizer\n",
    "cost = tf.reduce_mean(tf.nn.softmax_cross_entropy_with_logits(logits, y))\n",
    "optimizer = tf.train.GradientDescentOptimizer(learning_rate=learning_rate).minimize(cost)\n"
   ]
  },
  {
   "cell_type": "code",
   "execution_count": 9,
   "metadata": {
    "collapsed": false
   },
   "outputs": [
    {
     "name": "stdout",
     "output_type": "stream",
     "text": [
      "Epoch: 0025 cost= 2.973548735\n",
      "Epoch: 0050 cost= 1.446448641\n",
      "Epoch: 0075 cost= 0.912382811\n",
      "Epoch: 0100 cost= 0.644357568\n",
      "Epoch: 0125 cost= 0.489814470\n",
      "Epoch: 0150 cost= 0.388747719\n",
      "Epoch: 0175 cost= 0.318847109\n",
      "Epoch: 0200 cost= 0.267482427\n",
      "Epoch: 0225 cost= 0.228703348\n",
      "Epoch: 0250 cost= 0.199247634\n",
      "Epoch: 0275 cost= 0.176201948\n",
      "Epoch: 0300 cost= 0.157569854\n",
      "Epoch: 0325 cost= 0.142311266\n",
      "Epoch: 0350 cost= 0.129589173\n",
      "Epoch: 0375 cost= 0.118905785\n",
      "Epoch: 0400 cost= 0.109732456\n",
      "Epoch: 0425 cost= 0.101721081\n",
      "Epoch: 0450 cost= 0.094648091\n",
      "Epoch: 0475 cost= 0.088365743\n",
      "Epoch: 0500 cost= 0.082759696\n",
      "Epoch: 0525 cost= 0.077720858\n",
      "Epoch: 0550 cost= 0.073192247\n",
      "Epoch: 0575 cost= 0.069108768\n",
      "Epoch: 0600 cost= 0.065404368\n",
      "Epoch: 0625 cost= 0.062040107\n",
      "Epoch: 0650 cost= 0.058949228\n",
      "Epoch: 0675 cost= 0.056140027\n",
      "Epoch: 0700 cost= 0.053566911\n",
      "Epoch: 0725 cost= 0.051198727\n",
      "Epoch: 0750 cost= 0.048992261\n",
      "Epoch: 0775 cost= 0.046947816\n",
      "Epoch: 0800 cost= 0.045040838\n",
      "Epoch: 0825 cost= 0.043246757\n",
      "Epoch: 0850 cost= 0.041579404\n",
      "Epoch: 0875 cost= 0.040022648\n",
      "Epoch: 0900 cost= 0.038564717\n",
      "Epoch: 0925 cost= 0.037187383\n",
      "Epoch: 0950 cost= 0.035889442\n",
      "Epoch: 0975 cost= 0.034675551\n",
      "Epoch: 1000 cost= 0.033531097\n",
      "Optimization Finished!\n",
      "Accuracy on testing data: 0.752177\n",
      "Accuracy on training data: 0.989645\n"
     ]
    }
   ],
   "source": [
    "# Initializing the variables\n",
    "init = tf.initialize_all_variables()\n",
    "\n",
    "\n",
    "# Launch the graph\n",
    "with tf.Session() as sess:\n",
    "    sess.run(init)\n",
    "    # Training cycle\n",
    "    for epoch in range(training_epochs):\n",
    "        avg_cost = 0.\n",
    "        total_batch = int(len(train_features)/batch_size)\n",
    "        # Loop over all batches\n",
    "        for i in range(total_batch):\n",
    "            batch_start = i*batch_size\n",
    "            batch_features = train_features[batch_start:batch_start + batch_size]\n",
    "            batch_labels = train_labels[batch_start:batch_start + batch_size]\n",
    "            #sess.run(optimizer, feed_dict={x: batch_x, y: batch_y})\n",
    "            _, c = sess.run([optimizer, cost], feed_dict={x: batch_features, y: batch_labels})\n",
    "            # Compute average loss\n",
    "            avg_cost += c / total_batch\n",
    "            \n",
    "        # Display logs per epoch step\n",
    "        if (epoch+1) % display_step == 0:\n",
    "            print (\"Epoch:\", '%04d' % (epoch+1), \"cost=\", \"{:.9f}\".format(avg_cost))\n",
    "\n",
    "    print(\"Optimization Finished!\")\n",
    "\n",
    "    # Test model\n",
    "    correct_prediction = tf.equal(tf.argmax(logits, 1), tf.argmax(y, 1))\n",
    "    \n",
    "    accuracy = tf.reduce_mean(tf.cast(correct_prediction, tf.float32))\n",
    "    \n",
    "    print(\"Accuracy on testing data:\", accuracy.eval({x: test_features, y: test_labels}))\n",
    "    print(\"Accuracy on training data:\", accuracy.eval({x: train_features, y: train_labels}))"
   ]
  }
 ],
 "metadata": {
  "kernelspec": {
   "display_name": "Python 3",
   "language": "python",
   "name": "python3"
  },
  "language_info": {
   "codemirror_mode": {
    "name": "ipython",
    "version": 3
   },
   "file_extension": ".py",
   "mimetype": "text/x-python",
   "name": "python",
   "nbconvert_exporter": "python",
   "pygments_lexer": "ipython3",
   "version": "3.5.2"
  }
 },
 "nbformat": 4,
 "nbformat_minor": 1
}
